{
 "cells": [
  {
   "cell_type": "markdown",
   "metadata": {
    "id": "cVAwDPkS1hp5"
   },
   "source": [
    "# Teoría de la Información y la Codificación\n",
    "## Tarea: Códigos EAN-13\n",
    "\n",
    "\n",
    "# Autor: \n",
    "\n",
    "Rellene la siguiente información:\n",
    "\n",
    " - Estudiante (nombre y apellidos): Cristina Sánchez Justicia  \n",
    " - DNI/NIE/Pasaporte: 77689772G  \n",
    " - Grupo: A \n",
    " - Curso académico: 4º  \n",
    "\n",
    "\n",
    "\n",
    "__Yo, como estudiante de la asignatura, aseguro que la elaboración de estos ejercicios ha sido realizada de forma individual, sin incurrir en copias parciales o totales de código fuente o documentación, y acepto las repercusiones que conllevaría si esto no fuese así.__\n"
   ]
  },
  {
   "cell_type": "markdown",
   "metadata": {
    "id": "pHRzy4cd1hp8"
   },
   "source": [
    "# Respuestas a las cuestiones teóricas:\n",
    "\n",
    "\n",
    "<b>Fuente:</b> Sin memoria porque los símbolos emitidos son estadísticamente independientes <br>\n",
    "<b>Canal:</b> Es sin ruido porque puede haber manchas o errores en la imágen (que no se haya imprimido bien, que el archivo se haya corrompido un poco). Por eso tiene tantos sistemas de seguridad. <br>Es determinista porque cada símbolo de salida se asocia con varios símbolos de entrada. <br> Es sin pérdida porque al conocer la salida, se conoce unívocamente la entrada <br>\n",
    "<b>Destino:</b> <br>\n",
    "\n",
    "<b>conjunto de mensajes de la fuente:</b> Los números<br> \n",
    "<b>alfabeto de codificación:</b> Unidad de raya blanca y unidad de raya negra<br>\n",
    "<b>función de codificación:</b> <br>\n"
   ]
  },
  {
   "cell_type": "code",
   "execution_count": 73,
   "metadata": {
    "id": "-ULLVgZ31hp9"
   },
   "outputs": [],
   "source": [
    "\n",
    "#imports\n",
    "\n",
    "import numpy as np\n",
    "import matplotlib.pyplot as plt\n"
   ]
  },
  {
   "cell_type": "code",
   "execution_count": 74,
   "metadata": {
    "id": "LseWBHwk1hp_"
   },
   "outputs": [],
   "source": [
    "\n",
    "# Secuencia de dígitos a codificar\n",
    "digitos= \"003994155486\""
   ]
  },
  {
   "cell_type": "code",
   "execution_count": 75,
   "metadata": {
    "id": "mnc2YkA-1hp_"
   },
   "outputs": [],
   "source": [
    "\n",
    "zonaSilenciosa= 9 # Tamaño de la zona silenciosa en Unidades\n",
    "totalUnidades= 95+2*zonaSilenciosa # Se deben reservar totalUnidades unidades para imprimir el código de barras\n",
    "grosor= 2 # Ancho (en píxeles) de cada unidad\n",
    "tamDigito = 7\n",
    "S = 3 \n",
    "M = 5 "
   ]
  },
  {
   "cell_type": "code",
   "execution_count": 76,
   "metadata": {
    "colab": {
     "base_uri": "https://localhost:8080/"
    },
    "id": "1llmlijj1hp_",
    "outputId": "8e78b4cc-7d50-4bae-c695-db30bded3bcc"
   },
   "outputs": [],
   "source": [
    "# Salida: código de barras (unidades) y dígito de control\n",
    "# @pre: secuenciaDigitos debe de ser una lista de 12 enteros \n",
    "negro = 0\n",
    "blanco = 1 \n",
    "def CalcularCodigoBarras(secuenciaDigitos):\n",
    "\n",
    "    # Código de barras\n",
    "    # Array de totalUnidades. 0= negro; 1= blanco\n",
    "    codigo= np.ones( totalUnidades , dtype= np.uint8)\n",
    "\n",
    "\n",
    "    # Descomentar y rellenar\n",
    "    \n",
    "    Bcodificacion= np.uint8(\n",
    "        [\n",
    "            [1, 1, 1, 0, 0, 1, 0], # 0    \n",
    "            [1, 1, 0, 0, 1, 1, 0], # 1\n",
    "            [1, 1, 0, 1, 1, 0, 0], # 2\n",
    "            [1, 0, 0, 0, 0, 1, 0], # 3\n",
    "            [1, 0, 1, 1, 1, 0, 0], # 4\n",
    "            [1, 0, 0, 1, 1, 1, 0], # 5\n",
    "            [1, 0, 1, 0, 0, 0, 0], # 6\n",
    "            [1, 0, 0, 0, 1, 0, 0], # 7\n",
    "            [1, 0, 0, 1, 0, 0, 0], # 8\n",
    "            [1, 1, 1, 0, 1, 0, 0] # 9\n",
    "        ]\n",
    "    )\n",
    "    \n",
    "    Rcodificacion = np.ones((10,7), dtype=np.uint8) - Bcodificacion\n",
    "    Gcodificacion = np.uint8(\n",
    "        [\n",
    "            [1, 0, 1, 1, 0, 0, 0], \n",
    "            [1, 0, 0, 1, 1, 0, 0],\n",
    "            [1, 1, 0, 0, 1, 0, 0],\n",
    "            [1, 0, 1, 1, 1, 1, 0],\n",
    "            [1, 1, 0, 0, 0, 1, 0],\n",
    "            [1, 0, 0, 0, 1, 1, 0],\n",
    "            [1, 1, 1, 1, 0, 1, 0],\n",
    "            [1, 1, 0, 1, 1, 1, 0],\n",
    "            [1, 1, 1, 0, 1, 1, 0],\n",
    "            [1, 1, 0, 1, 0, 0, 0]\n",
    "   ]\n",
    "   )\n",
    "\n",
    "    B=0\n",
    "    G=1\n",
    "    codificaciones= np.uint8( # 0= B; 1= G\n",
    "        [\n",
    "            [B, B, B, B, B, B], # Dígito de control 0\n",
    "            [B, B, G, B, G, G], # Dígito de control 1\n",
    "            [B, B, G, G, B, G], # dígito de control 2\n",
    "            [B, B, G, G, G, B], # dígito de control 3\n",
    "            [B, G, B, B, G, G], # dígito de control 4\n",
    "            [B, G, G, B, B, G], # dígito de control 5\n",
    "            [B, G, G, G, B, B], # dígito de control 6\n",
    "            [B, G, B, G, B, G], # dígito de control 7\n",
    "            [B, G, B, G, G, B], # dígito de control 8\n",
    "            [B, G, G, B, G, B] # dígito de control 9\n",
    "        ]\n",
    "    )\n",
    "   \n",
    "    # Paso 1. Calcular dígito de control\n",
    "    # Se suman los dígitos en las posiciones impares, es decir, de indice par\n",
    "    impares = int(secuenciaDigitos[0])+int(secuenciaDigitos[2])+int(secuenciaDigitos[4])\n",
    "    impares += int(secuenciaDigitos[6])+int(secuenciaDigitos[8])+int(secuenciaDigitos[9])\n",
    "    impares += int(secuenciaDigitos[11])\n",
    "    # El resultado se multiplica por 3 \n",
    "    multiplo = impares*333\n",
    "    # Se suman los dígitos de las posiciones pares \n",
    "    pares = impares + int(secuenciaDigitos[1]) + int(secuenciaDigitos[3]) \n",
    "    pares += int(secuenciaDigitos[5]) + int(secuenciaDigitos[7]) + int(secuenciaDigitos[9])\n",
    "    pares += int(secuenciaDigitos[11]) \n",
    "    # Se calcula el resultado módulo 10\n",
    "    M = pares % 10 \n",
    "    # Si M = 0, entonces X = 0, en otro caso, entonces X = 10-M \n",
    "    X = 0 \n",
    "    if M != 0: \n",
    "      X = 10 - M\n",
    "    \n",
    "    # Paso 2. Escribir las unidades de las guías (S, E, M)\n",
    "    codigo[zonaSilenciosa] = negro\n",
    "    #codigo[zonaSilenciosa + 1] = blanco \n",
    "    codigo[zonaSilenciosa + 2] = negro\n",
    "\n",
    "    codigo[-zonaSilenciosa] = negro\n",
    "    #codigo[-zonaSilenciosa+1] = blanco\n",
    "    codigo[-zonaSilenciosa+2] = negro\n",
    "\n",
    "    #codigo[zonaSilenciosa+2+6*7+0] = blanco \n",
    "    codigo[totalUnidades//2-1] = negro \n",
    "    #codigo[zonaSilenciosa+2+6*7+2] = blanco \n",
    "    codigo[totalUnidades//2+1] = negro \n",
    "    #codigo[zonaSilenciosa+2+6*7+4] = blanco \n",
    "\n",
    "    # Paso 3. Rellenar las unidades de LLLLLL\n",
    "    L = secuenciaDigitos[0:6]\n",
    "    codificacion = codificaciones[X] \n",
    "    for i in range(len(L)): \n",
    "        l = int(L[i])\n",
    "        if codificacion[i] == B: \n",
    "            c = Bcodificacion[l]\n",
    "        else: \n",
    "            c = Gcodificacion[l]\n",
    "        # Ahora tenemos que insertar c en su lugar correspondiente \n",
    "        inicio = zonaSilenciosa + S \n",
    "        codigo[inicio+i*tamDigito: inicio+tamDigito*(i+1)] = c\n",
    "    \n",
    "    # Paso 4. Rellenar las unidades de RRRRRR\n",
    "    R = secuenciaDigitos[6:12]\n",
    "    for i in range(len(R)): \n",
    "        r = int(R[i])\n",
    "        c = Rcodificacion[r]\n",
    "        inicio = zonaSilenciosa + S + M + tamDigito*6 \n",
    "        codigo[inicio+i*tamDigito: inicio+tamDigito*(i+1)] = c \n",
    "    # Devolvería el código y el dígito de control\n",
    "    return codigo, X  \n",
    "\n",
    "resultado, DigitoControl= CalcularCodigoBarras(digitos)"
   ]
  },
  {
   "cell_type": "code",
   "execution_count": 77,
   "metadata": {
    "colab": {
     "base_uri": "https://localhost:8080/"
    },
    "id": "zgLC7AXs1hqB",
    "outputId": "135e6e82-a012-400a-8a6a-08304ccac389"
   },
   "outputs": [],
   "source": [
    "\n",
    "# Imagen de salida\n",
    "anchoIm= totalUnidades*grosor\n",
    "altoIm= 100\n",
    "colorBlanco = 255 \n",
    "colorNegro = 0\n",
    "imagenSalida= np.ones( (altoIm, anchoIm) , dtype=np.uint8)*colorBlanco \n",
    "\n",
    "# Se convierte el string a una lista de enteros \n",
    "digitos = [int(x) for x in digitos]\n",
    "\n",
    "\n",
    "# Pintar código de barras\n",
    "# Para pintar un rectángulo de la coordenada (x,y) (10, 9) a la (13,11): \n",
    "for i in range(len(resultado)): \n",
    "    if resultado[i] == negro: \n",
    "        imagenSalida[10:80, i*2:i*2+2]= colorNegro \n",
    "\n"
   ]
  },
  {
   "cell_type": "code",
   "execution_count": 78,
   "metadata": {
    "colab": {
     "base_uri": "https://localhost:8080/",
     "height": 183
    },
    "id": "YkOF52ee1hqC",
    "outputId": "6794c458-3da1-494f-ee8d-32ffab688450"
   },
   "outputs": [
    {
     "data": {
      "text/plain": [
       "Text(120, 90, '[1, 5, 5, 4, 8, 6]')"
      ]
     },
     "execution_count": 78,
     "metadata": {},
     "output_type": "execute_result"
    },
    {
     "data": {
      "image/png": "[encoded data removed]",
      "text/plain": [
       "<Figure size 432x288 with 1 Axes>"
      ]
     },
     "metadata": {
      "needs_background": "light"
     },
     "output_type": "display_data"
    }
   ],
   "source": [
    "\n",
    "imgplot= plt.imshow(imagenSalida, cmap='gray')\n",
    "imgplot.axes.get_xaxis().set_visible(False)\n",
    "imgplot.axes.get_yaxis().set_visible(False)\n",
    "\n",
    "# Para pintar texto en alguna coordenada, con un tamaño de fuente especificado\n",
    "plt.text(30, altoIm-10, digitos[0:6], fontsize=12)\n",
    "plt.text(120, altoIm-10, digitos[6:12], fontsize=12)\n",
    "# PROGRAMAR AQUÍ "
   ]
  }
 ],
 "metadata": {
  "colab": {
   "provenance": []
  },
  "kernelspec": {
   "display_name": "Python 3 (ipykernel)",
   "language": "python",
   "name": "python3"
  },
  "language_info": {
   "codemirror_mode": {
    "name": "ipython",
    "version": 3
   },
   "file_extension": ".py",
   "mimetype": "text/x-python",
   "name": "python",
   "nbconvert_exporter": "python",
   "pygments_lexer": "ipython3",
   "version": "3.9.7"
  }
 },
 "nbformat": 4,
 "nbformat_minor": 1
}
