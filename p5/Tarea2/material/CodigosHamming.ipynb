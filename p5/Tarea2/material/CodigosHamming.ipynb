{
 "cells": [
  {
   "cell_type": "markdown",
   "metadata": {},
   "source": [
    "# Teoría de la Información y la Codificación\n",
    "## Tarea: Códigos de Hamming\n",
    "\n",
    "\n",
    "# Autor: \n",
    "\n",
    "Rellene la siguiente información:\n",
    "\n",
    " - Estudiante (nombre y apellidos): \n",
    " - DNI/NIE/Pasaporte: \n",
    " - Grupo: \n",
    " - Curso académico: \n",
    "\n",
    "\n",
    "\n",
    "__Yo, como estudiante de la asignatura, aseguro que la elaboración de estos ejercicios ha sido realizada de forma individual, sin incurrir en copias parciales o totales de código fuente o documentación, y acepto las repercusiones que conllevaría si esto no fuese así.__\n"
   ]
  },
  {
   "cell_type": "markdown",
   "metadata": {},
   "source": [
    "# Respuestas a las cuestiones teóricas:\n",
    "\n",
    "\n",
    "Escribir aquí las respuestas a las cuestiones teóricas. De ser necesario incluir material adicional (imágenes, tablas), hágalo conforme al tutorial de Jupyter Notebook facilitado en la primera semana del curso.\n"
   ]
  },
  {
   "cell_type": "code",
   "execution_count": 1,
   "metadata": {},
   "outputs": [],
   "source": [
    "\n",
    "#imports\n",
    "import numpy as np\n",
    "\n"
   ]
  },
  {
   "cell_type": "code",
   "execution_count": 2,
   "metadata": {},
   "outputs": [],
   "source": [
    "\n",
    "# Declaración de constantes a usar \n",
    "\n",
    "# Longitud del código de bloque (n)\n",
    "\n",
    "# Longitud del código uniforme de codificación de la fuente (k)\n",
    "\n",
    "\n"
   ]
  },
  {
   "cell_type": "code",
   "execution_count": 3,
   "metadata": {},
   "outputs": [],
   "source": [
    "\n",
    "\n",
    "# Generación aleatoria de una palabra de k bits\n",
    "# Función que tiene como entrada k, la longitud de un código, y genera\n",
    "# una palabra de un código de longitud k sobre GF(2)\n",
    "def GenerarPalabraAleatoria(k):\n",
    "    palabra= np.random.randint(0, 2, k)\n",
    "    return palabra\n",
    "\n",
    "\n",
    "# Función que tiene como entrada una palabra de un código sobre GF(2) y genera un error de 1 bit en dicha palabra\n",
    "def InsertarError1bit(palabra):\n",
    "    pos= np.random.randint(0, len(palabra))\n",
    "    palabra[pos]= 1-palabra[pos]\n",
    "\n",
    "    \n",
    "# Función que tiene como entrada una palabra de un código sobre GF(2) y genera un error de 2 bits en dicha palabra\n",
    "def InsertarError2bits(palabra):\n",
    "    pos1= np.random.randint(0, len(palabra))\n",
    "    palabra[pos1]= 1-palabra[pos1]\n",
    "    pos2= np.random.randint(0, len(palabra))\n",
    "    while (pos1 == pos2):\n",
    "        pos2= np.random.randint(0, len(palabra))\n",
    "    palabra[pos2]= 1-palabra[pos2]\n",
    "\n"
   ]
  },
  {
   "cell_type": "code",
   "execution_count": 4,
   "metadata": {
    "scrolled": true
   },
   "outputs": [],
   "source": [
    "\n",
    "# Función CalcularMatrizM que tiene como entrada:\n",
    "#  - k: la dimensión del código (2^k mensajes posibles a codificar)\n",
    "#  - n: la longitud del código de bloque\n",
    "# Da como salida una matriz de codificación de un código de Hamming (n,k)\n",
    "#...\n",
    "# IMPLEMENTAR AQUÍ\n"
   ]
  },
  {
   "cell_type": "code",
   "execution_count": 5,
   "metadata": {
    "scrolled": true
   },
   "outputs": [],
   "source": [
    "\n",
    "# Función CalcularMatrizH que tiene como entrada:\n",
    "#  - k: la dimensión del código (2^k mensajes posibles a codificar)\n",
    "#  - n: la longitud del código de bloque\n",
    "# Da como salida la matriz de comprobación de errores (H) del código de Hamming (n,k)\n",
    "#...\n",
    "# IMPLEMENTAR AQUÍ\n"
   ]
  },
  {
   "cell_type": "code",
   "execution_count": 6,
   "metadata": {},
   "outputs": [],
   "source": [
    "\n",
    "# Función Codificar que tiene como entrada:\n",
    "#  - Palabra: Una palabra de longitud k sobre GF(2) a codificar\n",
    "#  - M: La matriz de codificación del código de Hamming\n",
    "# Devuelve como salida la palabra del código de bloque de codificar la palabra de entrada en el código de Hamming\n",
    "#...\n",
    "# IMPLEMENTAR AQUÍ\n"
   ]
  },
  {
   "cell_type": "code",
   "execution_count": 7,
   "metadata": {},
   "outputs": [],
   "source": [
    "\n",
    "# Función Decodificar que tiene como entrada:\n",
    "#  - Palabra: Una palabra de longitud n sobre GF(2) a decodificar\n",
    "#  - M: La matriz de codificación del código de Hamming\n",
    "# Devuelve como salida la palabra del código uniforme original decodificada\n",
    "#...\n",
    "# IMPLEMENTAR AQUÍ\n"
   ]
  },
  {
   "cell_type": "code",
   "execution_count": 8,
   "metadata": {},
   "outputs": [],
   "source": [
    "\n",
    "# Función CalcularSindrome: Calcula el síndrome de una palabra del código de bloque de Hamming dada\n",
    "# Se tiene como entrada:\n",
    "#  - Palabra: La palabra del código de bloque de la que se desea recibir el síndrome.\n",
    "#  - H: La matriz de comprobación de errores del código de hamming\n",
    "# Como salida, se devuelve el síndrome asociado a la palabra de entrada\n",
    "#...\n",
    "# IMPLEMENTAR AQUÍ\n"
   ]
  },
  {
   "cell_type": "code",
   "execution_count": 9,
   "metadata": {},
   "outputs": [],
   "source": [
    "\n",
    "# Función CorregirError: Calcula el error asociado a una palabra dada, y lo corrige\n",
    "# Se tiene como entrada:\n",
    "#  - Palabra: La palabra del código de bloque que se desea corregir\n",
    "#  - Sindrome: El síndrome asociado a la palabra\n",
    "# Como salida, se devuelve el la palabra corregida, en caso de que hubiese error-\n",
    "#...\n",
    "# IMPLEMENTAR AQUÍ\n"
   ]
  },
  {
   "cell_type": "code",
   "execution_count": 10,
   "metadata": {},
   "outputs": [],
   "source": [
    "# EJEMPLO 1\n",
    "\n",
    "# Ejemplos de prueba de envío sin errores\n",
    "\n",
    "# Generar mensaje a enviar\n",
    "\n",
    "# Codificación en código de bloque\n",
    "\n",
    "# Cálculo del error y corrección\n",
    "\n",
    "\n",
    "# Comprobación con el mensaje del código de bloque enviado por el canal\n",
    "\n",
    "# Decodificación.\n",
    "\n",
    "# Comparación con el mensaje del código uniforme generado por la fuente\n"
   ]
  },
  {
   "cell_type": "code",
   "execution_count": 11,
   "metadata": {},
   "outputs": [],
   "source": [
    "\n",
    "# EJEMPLO 1\n",
    "\n",
    "# Ejemplos de prueba de envío sin errores\n",
    "\n",
    "# Generar mensaje a enviar\n",
    "\n",
    "# Codificación en código de bloque\n",
    "\n",
    "# Inserción de un error de 1 bit\n",
    "\n",
    "# Cálculo del error y corrección\n",
    "\n",
    "\n",
    "# Comprobación con el mensaje del código de bloque enviado por el canal\n",
    "\n",
    "# Decodificación.\n",
    "\n",
    "# Comparación con el mensaje del código uniforme generado por la fuente"
   ]
  },
  {
   "cell_type": "code",
   "execution_count": 12,
   "metadata": {},
   "outputs": [],
   "source": [
    "\n",
    "# EJEMPLO 1\n",
    "\n",
    "# Ejemplos de prueba de envío sin errores\n",
    "\n",
    "# Generar mensaje a enviar\n",
    "\n",
    "# Codificación en código de bloque\n",
    "\n",
    "# Inserción de un error de 2 bit\n",
    "\n",
    "# Cálculo del error y corrección\n",
    "\n",
    "\n",
    "# Comprobación con el mensaje del código de bloque enviado por el canal\n",
    "\n",
    "# Decodificación.\n",
    "\n",
    "# Comparación con el mensaje del código uniforme generado por la fuente"
   ]
  },
  {
   "cell_type": "code",
   "execution_count": null,
   "metadata": {},
   "outputs": [],
   "source": []
  }
 ],
 "metadata": {
  "kernelspec": {
   "display_name": "Python 3",
   "language": "python",
   "name": "python3"
  },
  "language_info": {
   "codemirror_mode": {
    "name": "ipython",
    "version": 3
   },
   "file_extension": ".py",
   "mimetype": "text/x-python",
   "name": "python",
   "nbconvert_exporter": "python",
   "pygments_lexer": "ipython3",
   "version": "3.8.2"
  }
 },
 "nbformat": 4,
 "nbformat_minor": 4
}
