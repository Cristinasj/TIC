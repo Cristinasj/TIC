{
 "cells": [
  {
   "cell_type": "markdown",
   "metadata": {},
   "source": [
    "# Teoría de la Información y la Codificación\n",
    "## Tarea: La entropía de la información\n",
    "\n",
    "\n",
    "# Autor: \n",
    "\n",
    "Rellene la siguiente información:\n",
    "\n",
    " - Estudiante (nombre y apellidos): Cristina Sánchez Justicia \n",
    " - DNI/NIE/Pasaporte: 77689772G \n",
    " - Grupo: TIC\n",
    " - Curso académico: 4º \n",
    "\n",
    "\n",
    "\n",
    "__Yo, como estudiante de la asignatura, aseguro que la elaboración de estos ejercicios ha sido realizada de forma individual, sin incurrir en copias parciales o totales de código fuente o documentación, y acepto las repercusiones que conllevaría si esto no fuese así.__\n"
   ]
  },
  {
   "cell_type": "markdown",
   "metadata": {},
   "source": [
    "# Respuestas a las cuestiones teóricas:\n",
    "\n",
    "\n",
    "Código instantáneo: Ninguna palabra codificada coincide con el comienzo de otra. <br>\n",
    "Código completo: Código de traducción única. Para cada mensaje de la fuente, hay un mensaje que el destino puede descifrar. <br>\n",
    "Código óptimo: El mensaje a enviar tiene la longitud mínima. Para eso, intuitivamente, deberíamos de dar la longitud menor a las palabras que es más probable que aparezcan. Formalmente, la longitud promedio de cada palabra se aproxima a la entropía de la fuente.  "
   ]
  },
  {
   "cell_type": "code",
   "execution_count": 1,
   "metadata": {},
   "outputs": [],
   "source": [
    "\n",
    "#imports\n",
    "import numpy as np\n",
    "\n"
   ]
  },
  {
   "cell_type": "code",
   "execution_count": 2,
   "metadata": {},
   "outputs": [],
   "source": [
    "\n",
    "# Declaración de constantes a usar ( en caso de ser necesario )\n",
    "\n"
   ]
  },
  {
   "cell_type": "code",
   "execution_count": 3,
   "metadata": {},
   "outputs": [],
   "source": [
    "\n",
    "# Función que tenga como entrada:\n",
    "#  - M Número de mensajes posibles a enviar por la fuente\n",
    "#  - K Número de símbolos del alfabeto de codificación\n",
    "#, y devuelva como salida si existe un código completo\n",
    "# que codifique a M mensajes con un código de un alfabeto de K símbolos\n",
    "def hayInstantaneo(M, K): \n",
    "    longitudPalabra = 2\n",
    "    return M*K**(-longitudPalabra) <= 1 "
   ]
  },
  {
   "cell_type": "code",
   "execution_count": 4,
   "metadata": {},
   "outputs": [
    {
     "name": "stdout",
     "output_type": "stream",
     "text": [
      "M=(A,B,C,D,E,F), A=(0,1): False\n",
      "M=(A,B,C,D,E,F), A=(0,1,2): True\n"
     ]
    }
   ],
   "source": [
    "# Ejemplos de uso de la función anterior, y justificación teórica\n",
    "# Se asume que todas las palabras tienen longitud 2 \n",
    "print(\"M=(A,B,C,D,E,F), A=(0,1): {}\".format(hayInstantaneo(6, 2)))\n",
    "print(\"M=(A,B,C,D,E,F), A=(0,1,2): {}\".format(hayInstantaneo(6, 3)))\n"
   ]
  },
  {
   "cell_type": "code",
   "execution_count": 5,
   "metadata": {},
   "outputs": [],
   "source": [
    "\n",
    "# Función que tenga como entrada:\n",
    "#  - M Número de mensajes posibles a enviar por la fuente\n",
    "#  - K Número de símbolos del alfabeto de codificación\n",
    "#  - N Array de M elementos con la longitud de palabra de cada codificación de \n",
    "# mensaje de la fuente\n",
    "#, y devuelva como salida si existe un código instantáneo con estas características\n",
    "# que codifique a M mensajes con un código de un alfabeto de K símbolos, con las longitudes de \n",
    "#palabra dadas en N\n",
    "def hayCompleto(M, K, N): \n",
    "    suma = 0 \n",
    "    for i in range(M): \n",
    "        suma += K**(-N[i])\n",
    "    return suma <= 1"
   ]
  },
  {
   "cell_type": "code",
   "execution_count": 6,
   "metadata": {},
   "outputs": [
    {
     "name": "stdout",
     "output_type": "stream",
     "text": [
      "M=(A,B,C,D,E,F), A=(0,1), |c(A)=3|,|c(B)=3|,|c(C)=2|,|c(D)=3|,|c(E)=3|,|c(F)=2|: True\n"
     ]
    }
   ],
   "source": [
    "\n",
    "# Ejemplos de uso de la función anterior, y justificación teórica \n",
    "# Se utiliza la desigualdad de Kraft para demostrar que existe un código de tales características\n",
    "print(\"M=(A,B,C,D,E,F), A=(0,1), |c(A)=3|,|c(B)=3|,|c(C)=2|,|c(D)=3|,|c(E)=3|,|c(F)=2|: {}\".format(hayCompleto(6, 2, [3,3,2,3,3,2])))"
   ]
  },
  {
   "cell_type": "code",
   "execution_count": 7,
   "metadata": {},
   "outputs": [
    {
     "ename": "SyntaxError",
     "evalue": "invalid syntax (4056763188.py, line 9)",
     "output_type": "error",
     "traceback": [
      "\u001b[0;36m  File \u001b[0;32m\"/tmp/ipykernel_3773/4056763188.py\"\u001b[0;36m, line \u001b[0;32m9\u001b[0m\n\u001b[0;31m    def f(M, K, N)\u001b[0m\n\u001b[0m                  ^\u001b[0m\n\u001b[0;31mSyntaxError\u001b[0m\u001b[0;31m:\u001b[0m invalid syntax\n"
     ]
    }
   ],
   "source": [
    "\n",
    "# Función que tenga como entrada:\n",
    "#  - M Número de mensajes posibles a enviar por la fuente\n",
    "#  - K Número de símbolos del alfabeto de codificación\n",
    "#  - N Array de M elementos con la longitud de palabra de cada codificación de \n",
    "# mensaje de la fuente\n",
    "#, y devuelva como salida si existe un código completo con estas características\n",
    "# que codifique a M mensajes con un código de un alfabeto de K símbolos, con las \n",
    "# longitudes de palabra dadas en N\n",
    "def f(M, K, N)"
   ]
  },
  {
   "cell_type": "code",
   "execution_count": 8,
   "metadata": {},
   "outputs": [],
   "source": [
    "\n",
    "# Ejemplos de uso de l+a función anterior, y justificación teórica (en Markdown aparte)\n"
   ]
  },
  {
   "cell_type": "code",
   "execution_count": null,
   "metadata": {},
   "outputs": [],
   "source": []
  }
 ],
 "metadata": {
  "kernelspec": {
   "display_name": "Python 3 (ipykernel)",
   "language": "python",
   "name": "python3"
  },
  "language_info": {
   "codemirror_mode": {
    "name": "ipython",
    "version": 3
   },
   "file_extension": ".py",
   "mimetype": "text/x-python",
   "name": "python",
   "nbconvert_exporter": "python",
   "pygments_lexer": "ipython3",
   "version": "3.9.7"
  }
 },
 "nbformat": 4,
 "nbformat_minor": 4
}
