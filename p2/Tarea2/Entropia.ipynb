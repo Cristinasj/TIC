{
 "cells": [
  {
   "cell_type": "markdown",
   "metadata": {},
   "source": [
    "# Teoría de la Información y la Codificación\n",
    "## Tarea: La entropía de la información\n",
    "\n",
    "\n",
    "# Autor: \n",
    "\n",
    "Rellene la siguiente información:\n",
    "\n",
    " - Estudiante (nombre y apellidos): \n",
    " - DNI/NIE/Pasaporte: \n",
    " - Grupo: \n",
    " - Curso académico: \n",
    "\n",
    "\n",
    "\n",
    "__Yo, como estudiante de la asignatura, aseguro que la elaboración de estos ejercicios ha sido realizada de forma individual, sin incurrir en copias parciales o totales de código fuente o documentación, y acepto las repercusiones que conllevaría si esto no fuese así.__\n"
   ]
  },
  {
   "cell_type": "markdown",
   "metadata": {},
   "source": [
    "# Respuestas a las cuestiones teóricas:\n",
    "\n",
    "\n",
    "Escribir aquí las respuestas a las cuestiones teóricas. De ser necesario incluir material adicional (imágenes, tablas), hágalo conforme al tutorial de Jupyter Notebook facilitado en la primera semana del curso.\n"
   ]
  },
  {
   "cell_type": "code",
   "execution_count": 1,
   "metadata": {},
   "outputs": [],
   "source": [
    "\n",
    "#imports\n",
    "import numpy as np\n",
    "\n"
   ]
  },
  {
   "cell_type": "code",
   "execution_count": 2,
   "metadata": {},
   "outputs": [],
   "source": [
    "\n",
    "# Implemente una función que, teniendo como entrada un vector de tamaño M con las probabilidades\n",
    "# de que una fuente genere uno entre M mensajes, devuelva la entropía de la fuente.\n",
    "\n",
    "\n",
    "\n"
   ]
  },
  {
   "cell_type": "code",
   "execution_count": 3,
   "metadata": {},
   "outputs": [],
   "source": [
    "\n",
    "# Implemente una función que, teniendo como entrada un array NumPy 2-D\n",
    "# con N filas y M columnas, conteniendo probabilidades conjuntas de que \n",
    "# una fuente X (fila i) envíe un mensaje x_i y un destino Y (columna j) reciba el mensaje y_j,\n",
    "# devuelva el valor de la entropía H(X)\n",
    "\n",
    "\n"
   ]
  },
  {
   "cell_type": "code",
   "execution_count": 4,
   "metadata": {},
   "outputs": [],
   "source": [
    "\n",
    "# Implemente una función que, teniendo como entrada un array NumPy 2-D\n",
    "# con N filas y M columnas, conteniendo probabilidades conjuntas de que \n",
    "# una fuente X (fila i) envíe un mensaje x_i y un destino Y (columna j) reciba el mensaje y_j,\n",
    "# devuelva el valor de la entropía H(Y)\n",
    "\n",
    "\n"
   ]
  },
  {
   "cell_type": "code",
   "execution_count": 5,
   "metadata": {},
   "outputs": [],
   "source": [
    "\n",
    "# Implemente una función que, teniendo como entrada un array NumPy 2-D\n",
    "# con N filas y M columnas, conteniendo probabilidades conjuntas de que \n",
    "# una fuente X (fila i) envíe un mensaje x_i y un destino Y (columna j) reciba el mensaje y_j,\n",
    "# devuelva el valor de la entropía conjunta de la fuente y el destino H(X,Y).\n",
    "\n",
    "\n"
   ]
  },
  {
   "cell_type": "code",
   "execution_count": 6,
   "metadata": {},
   "outputs": [],
   "source": [
    "\n",
    "# Implemente una función que, teniendo como entrada un array NumPy 2-D\n",
    "# con N filas y M columnas, conteniendo probabilidades conjuntas de que \n",
    "# una fuente X (fila i) envíe un mensaje x_i y un destino Y (columna j) reciba el mensaje y_j,\n",
    "# devuelva el valor de la entropía H(X|Y)\n",
    "\n",
    "\n"
   ]
  },
  {
   "cell_type": "code",
   "execution_count": 7,
   "metadata": {},
   "outputs": [],
   "source": [
    "\n",
    "# Implemente una función que, teniendo como entrada un array NumPy 2-D\n",
    "# con N filas y M columnas, conteniendo probabilidades conjuntas de que \n",
    "# una fuente X (fila i) envíe un mensaje x_i y un destino Y (columna j) reciba el mensaje y_j,\n",
    "# devuelva el valor de la entropía H(Y|X)\n",
    "\n",
    "\n"
   ]
  },
  {
   "cell_type": "code",
   "execution_count": 8,
   "metadata": {},
   "outputs": [],
   "source": [
    "\n",
    "# Implemente una función que, teniendo como entrada un array NumPy 2-D\n",
    "# con N filas y M columnas, conteniendo probabilidades conjuntas de que \n",
    "# una fuente X (fila i) envíe un mensaje x_i y un destino Y (columna j) reciba el mensaje y_j,\n",
    "# devuelva el valor de la información mutua I(X; Y)\n",
    "\n",
    "\n"
   ]
  },
  {
   "cell_type": "code",
   "execution_count": 9,
   "metadata": {},
   "outputs": [],
   "source": [
    "\n",
    "# Escriba una matriz cuadrada de un tamaño N seleccionado por usted (mayor que 2).\n",
    "# Dicha matriz debe ser consistente con el envío de información de una fuente (filas)\n",
    "# a un destino (columnas) en un canal SIN ruido. \n",
    "\n",
    "\n",
    "\n",
    "# Calcule los valores proporcionados por todas las funciones anteriores. Analice\n",
    "# dichos valores considerando el tipo de canal, las propiedades de la entropía y\n",
    "# su aplicación a la transmisión de información estudiada en clase.\n"
   ]
  },
  {
   "cell_type": "code",
   "execution_count": 10,
   "metadata": {},
   "outputs": [],
   "source": [
    "\n",
    "# Escriba una matriz cuadrada de un tamaño N seleccionado por usted (mayor que 2).\n",
    "# Dicha matriz debe ser consistente con el envío de información de una fuente (filas)\n",
    "# a un destino (columnas) en un canal CON ruido (sin que sea canal inútil). \n",
    "\n",
    "\n",
    "\n",
    "# Calcule los valores proporcionados por todas las funciones anteriores. Analice\n",
    "# dichos valores considerando el tipo de canal, las propiedades de la entropía y\n",
    "# su aplicación a la transmisión de información estudiada en clase.\n"
   ]
  },
  {
   "cell_type": "code",
   "execution_count": 11,
   "metadata": {},
   "outputs": [],
   "source": [
    "\n",
    "# Escriba una matriz cuadrada de un tamaño N seleccionado por usted (mayor que 2).\n",
    "# Dicha matriz debe ser consistente con el envío de información de una fuente (filas)\n",
    "# a un destino (columnas) en un canal INÚTIL. \n",
    "\n",
    "\n",
    "\n",
    "# Calcule los valores proporcionados por todas las funciones anteriores. Analice\n",
    "# dichos valores considerando el tipo de canal, las propiedades de la entropía y\n",
    "# su aplicación a la transmisión de información estudiada en clase.\n"
   ]
  }
 ],
 "metadata": {
  "kernelspec": {
   "display_name": "Python 3 (ipykernel)",
   "language": "python",
   "name": "python3"
  },
  "language_info": {
   "codemirror_mode": {
    "name": "ipython",
    "version": 3
   },
   "file_extension": ".py",
   "mimetype": "text/x-python",
   "name": "python",
   "nbconvert_exporter": "python",
   "pygments_lexer": "ipython3",
   "version": "3.9.7"
  }
 },
 "nbformat": 4,
 "nbformat_minor": 4
}
