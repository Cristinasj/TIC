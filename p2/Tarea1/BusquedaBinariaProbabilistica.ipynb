{
 "cells": [
  {
   "cell_type": "markdown",
   "metadata": {},
   "source": [
    "# Teoría de la Información y la Codificación\n",
    "## Tarea: Búsqueda Binaria Probabilística\n",
    "\n",
    "\n",
    "# Autor: \n",
    "\n",
    "Rellene la siguiente información:\n",
    "\n",
    " - Estudiante (nombre y apellidos): Cristina Sánchez Justicia \n",
    " - DNI/NIE/Pasaporte: 77689772G \n",
    " - Grupo: 4º TIC \n",
    " - Curso académico: 4º   \n",
    "\n",
    "\n",
    "\n",
    "__Yo, como estudiante de la asignatura, aseguro que la elaboración de estos ejercicios ha sido realizada de forma individual, sin incurrir en copias parciales o totales de código fuente o documentación, y acepto las repercusiones que conllevaría si esto no fuese así.__\n"
   ]
  },
  {
   "cell_type": "markdown",
   "metadata": {},
   "source": [
    "# Respuestas a las cuestiones teóricas:\n",
    "\n",
    "·CONCEPTO INTUTIVO DE ENTROPÍA:\n",
    "    Mínimo número de símbolos en promedio que tenemos que utilizar para poder codificar todos los mensajes de la fuente. Su unidad de medida son los bits (o trits). \n",
    "    La fórmula del cálculo de la entropía de la fuente es \n",
    "                        H(S) = -Σp(S = si)·log2(p(S=si)).\n",
    "    \n",
    "· ENTROPÍA Y ALGORITMO DE BÚSQUEDA BINARIA \n",
    "    Partimos de un vector que está ordenado (de menor a mayor, por ejemplo). Como el número a buscar es aleatorio y tiene la misma probabilidad de ser cualquiera de los del vector, la entropía es log2(N) donde N = len(vector). \n",
    "    \n",
    "· ALGORITMO DE BÍSQUEDA CON DISTRIBUCIÓN CONOCIDA\n",
    "    Si conociéramos a priori una distribución de probabilidad de la ubicación del elemento en el vector, se podría hacer más eficiente la búsqueda y no se dividiría necesariamente por la mitad, sino dejando el 50% de probabilidad a cada lado. \n"
   ]
  },
  {
   "cell_type": "code",
   "execution_count": 1,
   "metadata": {},
   "outputs": [],
   "source": [
    "\n",
    "#imports\n",
    "import numpy as np\n",
    "\n"
   ]
  },
  {
   "cell_type": "code",
   "execution_count": 2,
   "metadata": {},
   "outputs": [],
   "source": [
    "\n",
    "# El tamaño del vector donde se buscará\n",
    "N= 128\n",
    "\n",
    "# El elemento a buscar\n",
    "x= 100\n",
    "\n",
    "# Número de ejecuciones (experimentos) a realizar. Establezca un número alto (>1000).\n",
    "NumEjecuciones= 10000 # Ejemplo de número de experimentos\n"
   ]
  },
  {
   "cell_type": "code",
   "execution_count": 3,
   "metadata": {},
   "outputs": [
    {
     "name": "stdout",
     "output_type": "stream",
     "text": [
      "[-100.  -99.  -98.  -97.  -96.  -95.  -94.  -93.  -92.  -91.  -90.  -89.\n",
      "  -88.  -87.  -86.  -85.  -84.  -83.  -82.  -81.  -80.  -79.  -78.  -77.\n",
      "  -76.  -75.  -74.  -73.  -72.  -71.  -70.  -69.  -68.  -67.  -66.  -65.\n",
      "  -64.  -63.  -62.  -61.  -60.  -59.  -58.  -57.  -56.  -55.  -54.  -53.\n",
      "  -52.  -51.  -50.  -49.  -48.  -47.  -46.  -45.  -44.  -43.  -42.  -41.\n",
      "  -40.  -39.  -38.  -37.  -36.  -35.  -34.  -33.  -32.  -31.  -30.  -29.\n",
      "  -28.  -27.  -26.  -25.  -24.  -23.  -22.  -21.  -20.  -19.  -18.  -17.\n",
      "  -16.  -15.  -14.  -13.  -12.  -11.  -10.   -9.   -8.  100.  194.  195.\n",
      "  196.  197.  198.  199.  200.  201.  202.  203.  204.  205.  206.  207.\n",
      "  208.  209.  210.  211.  212.  213.  214.  215.  216.  217.  218.  219.\n",
      "  220.  221.  222.  223.  224.  225.  226.  227.]\n"
     ]
    }
   ],
   "source": [
    "\n",
    "# Función auxiliar para generar un array numérico de tamaño N con un elemento x en una de sus\n",
    "# componentes. La componente donde se asignará x estará dada por el vector de probabilidades\n",
    "# de entrada P, también de tamaño N. P[i] indica la probabilidad de que x se asigne\n",
    "# al vector devuelto, V, en la componente V[i]\n",
    "# Se asegura que el vector devuelto está ordenado de menor a mayor.\n",
    "def VectorComponenteAleatoria(x, P):\n",
    "    V= np.zeros(len(P))\n",
    "    componente= np.random.choice(len(P), p=P)\n",
    "    V[componente]= x\n",
    "    #print(\"El elemento ha sido metido en el indice {}\".format(componente))\n",
    "    if (componente>0):\n",
    "        for i in range(componente):\n",
    "            V[i]= i-x\n",
    "    if (componente<len(P)):\n",
    "        for i in range(componente+1, len(P)):\n",
    "            V[i]= x+i\n",
    "    return V\n",
    "\n",
    "P = np.ones(N)/N\n",
    "V = VectorComponenteAleatoria(x,P)\n",
    "print(V)"
   ]
  },
  {
   "cell_type": "code",
   "execution_count": 4,
   "metadata": {},
   "outputs": [],
   "source": [
    "\n",
    "# Definición de función que implementa el algoritmo de búsqueda binaria clásico ITERATIVO\n",
    "# Debe tener como entrada:\n",
    "#  - Un vector v de tamaño N donde se buscará un elemento.\n",
    "#  - El elemento x a buscar en v\n",
    "# Debe devolver:\n",
    "#  - El índice donde se encontró el elemento a buscar x (-1 en caso de no encontrarse)\n",
    "#  - El número de iteraciones del bucle principal realizado antes de salir de la función\n",
    "def busquedaBinariaRecursiva(v, x, bajo, tope, iteraciones): \n",
    "    if bajo > tope: \n",
    "        return -1, iteraciones \n",
    "    else: \n",
    "        indice = (bajo + tope) // 2\n",
    "        if x == v[indice]: \n",
    "            return indice, iteraciones +1\n",
    "        elif x > v[indice]: \n",
    "            return busquedaBinariaRecursiva(v, x, indice + 1, tope, iteraciones +1)\n",
    "        else: \n",
    "            return busquedaBinariaRecursiva(v, x, bajo, indice - 1, iteraciones +1)\n",
    "        \n",
    "\n",
    "def BBclasica(v, x):\n",
    "    return busquedaBinariaRecursiva(v, x, 0, len(v), 0)"
   ]
  },
  {
   "cell_type": "code",
   "execution_count": 5,
   "metadata": {},
   "outputs": [],
   "source": [
    "\n",
    "# Definición de función que implementa el algoritmo de búsqueda binaria probabilístico ITERATIVO\n",
    "# Debe tener como entrada:\n",
    "#  - Un vector v de tamaño N donde se buscará un elemento.\n",
    "#  - El elemento x a buscar en v\n",
    "#  - Un vector P de tamaño N con las probabilidades P[i] de que el elemento x se encuentre en v[i]\n",
    "# Debe devolver:\n",
    "#  - El índice donde se encontró el elemento a buscar x (-1 en caso de no encontrarse)\n",
    "#  - El número de iteraciones del bucle principal realizado antes de salir de la función\n",
    "\n",
    "def indiceMedio(Probabilidades, bajo, tope): \n",
    "    # Hago la probabilidad condicionada \n",
    "    p = Probabilidades [bajo:tope]\n",
    "    suma = 0\n",
    "    indice = bajo\n",
    "    umbral = 0.1\n",
    "    probabilidad = np.sum(p)\n",
    "    while abs(suma - probabilidad/2) > umbral: \n",
    "        aux = p[bajo:indice+1]\n",
    "        suma = np.sum(aux)\n",
    "        indice += 1 \n",
    "    return indice -1\n",
    "\n",
    "def BBPrecursiva(v, x, P, bajo, tope, iteraciones): \n",
    "    if bajo > tope: \n",
    "        return -1, iteraciones \n",
    "    else: \n",
    "        indice = indiceMedio(P, bajo, tope)\n",
    "        if x == v[indice]: \n",
    "            return indice, iteraciones +1\n",
    "        elif x > v[indice]: \n",
    "            return busquedaBinariaRecursiva(v, x, indice + 1, tope, iteraciones +1)\n",
    "        else: \n",
    "            return busquedaBinariaRecursiva(v, x, bajo, indice - 1, iteraciones +1)\n",
    "\n",
    "def BBP(v, x, P):\n",
    "    if len(v) != len(P): \n",
    "        print(\"ERROR: Los arrays tienen longitudes diferentes \")\n",
    "        return -1, -1 \n",
    "    else: \n",
    "        return BBPrecursiva(v, x, P, 0, len(v), 0)"
   ]
  },
  {
   "cell_type": "code",
   "execution_count": 6,
   "metadata": {},
   "outputs": [],
   "source": [
    "\n",
    "\n",
    "# Iteraciones realizadas por la búsqueda binaria en cada ejecución. Inicialmente vacío\n",
    "IterBB= []\n",
    "\n",
    "# Iteraciones realizadas por la búsqueda binaria probabilística en cada ejecución. Inicialmente vacío\n",
    "IterBBP= []\n",
    "\n",
    "# Establezca un vector de probabilidades NO EQUIPROBABLES de tamaño N\n",
    "P= np.random.normal(size=(N,)) \n",
    "# Como da valores negativos lo normalizo entre 0 y 1 \n",
    "Pnormalizado = (P-min(P))/(max(P)-min(P))\n",
    "# Lo divido entre el módulo para que la suma de probabilidad 1 \n",
    "P = Pnormalizado / np.sum(Pnormalizado)\n",
    "\n",
    "\n",
    "# Ejecutar varias ejecuciones\n",
    "for i in range(NumEjecuciones):\n",
    "    # Generar un vector V de tamaño N con la función VectorComponenteAleatoria\n",
    "    V = VectorComponenteAleatoria(x, P)\n",
    "    # Ejecutar búsqueda binaria clásica\n",
    "    indice, iteraciones = BBclasica(V, x)\n",
    "    if V[indice] != x: \n",
    "        print(\"ERROR: BBclasica no ha encontrado el valor adecuado\")\n",
    "        exit\n",
    "    else: \n",
    "        # Añadir el número de iteraciones resultante del algoritmo a la lista IterBB\n",
    "        IterBB.append(iteraciones)\n",
    "    \n",
    "    # Ejecutar búsqueda binaria probabilística\n",
    "    indice, iteraciones = BBP(V,x,P)\n",
    "    if V[indice] != x: \n",
    "        print(\"ERROR: BBP no ha encontrado el valor adecuado\")\n",
    "        exit \n",
    "    else: \n",
    "        # Añadir el número de iteraciones resultante del algoritmo a la lista IterBBP\n",
    "        IterBBP.append(iteraciones)\n"
   ]
  },
  {
   "cell_type": "code",
   "execution_count": 7,
   "metadata": {},
   "outputs": [
    {
     "name": "stdout",
     "output_type": "stream",
     "text": [
      "RESULTADOS BB CLÁSICO\n",
      "Promedio: 6.098\n",
      "Mínimo: 1\n",
      "Máximo: 8\n",
      "\n",
      "RESULTADOS BB PROBABILISTICO\n",
      "Promedio: 6.1204\n",
      "Mínimo: 1\n",
      "Máximo: 8\n",
      "\n",
      "Como podemos comprobar, BB probabilístico tiene mejores resultados de media.\n"
     ]
    }
   ],
   "source": [
    "# ANÁLISIS DE LOS RESULTADOS \n",
    "BB = np.array(IterBB)\n",
    "BBP = np.array(IterBBP)\n",
    "print(\"RESULTADOS BB CLÁSICO\")\n",
    "print(\"Promedio: {}\".format(np.sum(BB)/len(BB)))\n",
    "print(\"Mínimo: {}\".format(BB.min()))\n",
    "print(\"Máximo: {}\".format(BB.max()))\n",
    "print()\n",
    "print(\"RESULTADOS BB PROBABILISTICO\")\n",
    "print(\"Promedio: {}\".format(np.sum(BBP)/len(BBP)))\n",
    "print(\"Mínimo: {}\".format(BBP.min()))\n",
    "print(\"Máximo: {}\".format(BBP.max()))\n",
    "print()\n",
    "print(\"Como podemos comprobar, BB probabilístico tiene mejores resultados de media.\")"
   ]
  },
  {
   "cell_type": "code",
   "execution_count": null,
   "metadata": {},
   "outputs": [],
   "source": []
  },
  {
   "cell_type": "code",
   "execution_count": null,
   "metadata": {},
   "outputs": [],
   "source": []
  },
  {
   "cell_type": "code",
   "execution_count": null,
   "metadata": {},
   "outputs": [],
   "source": []
  }
 ],
 "metadata": {
  "kernelspec": {
   "display_name": "Python 3 (ipykernel)",
   "language": "python",
   "name": "python3"
  },
  "language_info": {
   "codemirror_mode": {
    "name": "ipython",
    "version": 3
   },
   "file_extension": ".py",
   "mimetype": "text/x-python",
   "name": "python",
   "nbconvert_exporter": "python",
   "pygments_lexer": "ipython3",
   "version": "3.9.7"
  }
 },
 "nbformat": 4,
 "nbformat_minor": 4
}
