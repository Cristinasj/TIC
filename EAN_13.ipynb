{
 "cells": [
  {
   "cell_type": "markdown",
   "metadata": {
    "id": "cVAwDPkS1hp5"
   },
   "source": [
    "# Teoría de la Información y la Codificación\n",
    "## Tarea: Códigos EAN-13\n",
    "\n",
    "\n",
    "# Autor: \n",
    "\n",
    "Rellene la siguiente información:\n",
    "\n",
    " - Estudiante (nombre y apellidos): Cristina Sánchez Justicia  \n",
    " - DNI/NIE/Pasaporte: 77689772G  \n",
    " - Grupo: A \n",
    " - Curso académico: 4º  \n",
    "\n",
    "\n",
    "\n",
    "__Yo, como estudiante de la asignatura, aseguro que la elaboración de estos ejercicios ha sido realizada de forma individual, sin incurrir en copias parciales o totales de código fuente o documentación, y acepto las repercusiones que conllevaría si esto no fuese así.__\n"
   ]
  },
  {
   "cell_type": "markdown",
   "metadata": {
    "id": "pHRzy4cd1hp8"
   },
   "source": [
    "# Respuestas a las cuestiones teóricas:\n",
    "\n",
    "\n",
    "<b>Fuente:</b> Sin memoria porque los símbolos emitidos son estadísticamente independientes <br>\n",
    "<b>Canal:</b> Tiene ruido porque puede haber manchas o errores en la imágen (que no se haya imprimido bien, que el archivo se haya corrompido un poco). Por eso tiene tantos sistemas de seguridad. <br>\n",
    "<b>Destino:</b> <br>\n",
    "tipo de fuente \n",
    "tipo de canal \n",
    "conjunto posible de mensajes de la fuente \n",
    "alfabeto de codificación  \n",
    "función de codificación \n"
   ]
  },
  {
   "cell_type": "code",
   "execution_count": null,
   "metadata": {
    "id": "-ULLVgZ31hp9"
   },
   "outputs": [],
   "source": [
    "\n",
    "#imports\n",
    "\n",
    "import numpy as np\n",
    "import matplotlib.pyplot as plt\n"
   ]
  },
  {
   "cell_type": "code",
   "execution_count": null,
   "metadata": {
    "id": "LseWBHwk1hp_"
   },
   "outputs": [],
   "source": [
    "\n",
    "# Secuencia de dígitos a codificar\n",
    "digitos= \"480000107107\""
   ]
  },
  {
   "cell_type": "code",
   "execution_count": null,
   "metadata": {
    "id": "mnc2YkA-1hp_"
   },
   "outputs": [],
   "source": [
    "\n",
    "zonaSilenciosa= 9 # Tamaño de la zona silenciosa en Unidades\n",
    "totalUnidades= 95+2*zonaSilenciosa # Se deben reservar totalUnidades unidades para imprimir el código de barras\n",
    "grosor= 2 # Ancho (en píxeles) de cada unidad"
   ]
  },
  {
   "cell_type": "code",
   "execution_count": null,
   "metadata": {
    "colab": {
     "base_uri": "https://localhost:8080/"
    },
    "id": "1llmlijj1hp_",
    "outputId": "8e78b4cc-7d50-4bae-c695-db30bded3bcc"
   },
   "outputs": [
    {
     "name": "stdout",
     "output_type": "stream",
     "text": [
      "[1 1 1 1 1 1 1 1 1 0 1 0 1 1 1 1 1 1 1 1 1 1 1 1 1 1 1 1 1 1 1 1 1 1 1 1 1\n",
      " 1 1 1 1 1 1 1 1 1 1 1 1 1 1 1 1 1 0 1 0 1 1 1 1 1 1 1 1 1 1 1 1 1 1 1 1 1\n",
      " 1 1 1 1 1 1 1 1 1 1 1 1 1 1 1 1 1 1 1 1 1 1 1 1 1 1 1 1 1 1 0 1 0 1 1 1 1\n",
      " 1 1]\n"
     ]
    }
   ],
   "source": [
    "# Salida: código de barras (unidades) y dígito de control\n",
    "# @pre: secuenciaDigitos debe de ser una lista de enteros \n",
    "negro = 0\n",
    "blanco = 1 \n",
    "def CalcularCodigoBarras(secuenciaDigitos):\n",
    "\n",
    "    # Código de barras\n",
    "    # Array de totalUnidades. 0= negro; 1= blanco\n",
    "    codigo= np.ones( totalUnidades , dtype= np.uint8)\n",
    "\n",
    "\n",
    "    # Descomentar y rellenar\n",
    "    \"\"\"\n",
    "    B= np.uint8(\n",
    "        [\n",
    "            [1, 1, 1, 0, 0, 1, 0] # 0    \n",
    "            [], # 1\n",
    "            [], # 2\n",
    "            [], # 3\n",
    "            [], # 4\n",
    "            [], # 5\n",
    "            [], # 6\n",
    "            [], # 7\n",
    "            [], # 8\n",
    "            [] # 9\n",
    "        ]\n",
    "    )\n",
    "\n",
    "    codificaciones= np.uint8( # 0= B; 1= G\n",
    "        [\n",
    "            [0, 0, 0, 0, 0, 0], # Dígito de control 0\n",
    "            [0, 0, 1, 0, 1, 1], # Dígito de control 1\n",
    "            [], # dígito de control 2\n",
    "            [], # dígito de control 3\n",
    "            [], # dígito de control 4\n",
    "            [], # dígito de control 5\n",
    "            [], # dígito de control 6\n",
    "            [], # dígito de control 7\n",
    "            [], # dígito de control 8\n",
    "            [] # dígito de control 9\n",
    "        ]\n",
    "    )\n",
    "    \"\"\"\n",
    "    \n",
    "    # Paso 1. Calcular dígito de control\n",
    "    # Se suman los dígitos en las posiciones impares, es decir, de indice par\n",
    "    impares = secuenciaDigitos[0]+secuenciaDigitos[2]+secuenciaDigitos[4]\n",
    "    impares += secuenciaDigitos[6]+secuenciaDigitos[8]+secuenciaDigitos[9]\n",
    "    impares += secuenciaDigitos[11]\n",
    "    # El resultado se multiplica por 3 \n",
    "    multiplo = impares*333\n",
    "    # Se suman los dígitos de las posiciones pares \n",
    "    pares = impares + secuenciaDigitos[1] + secuenciaDigitos[3] \n",
    "    pares += secuenciaDigitos[5] + secuenciaDigitos[7] + secuenciaDigitos[9]\n",
    "    pares += secuenciaDigitos[11]\n",
    "    # Se calcula el resultado módulo 10\n",
    "    M = pares % 10 \n",
    "    # Si M = 0, entonces X = 0, en otro caso, entonces X = 10-M \n",
    "    X = 0 \n",
    "    if M != 0: \n",
    "      X = 10 - M\n",
    "    # Paso 2. Escribir las unidades de las guías (S, E, M)\n",
    "    codigo[zonaSilenciosa] = negro\n",
    "    codigo[zonaSilenciosa + 1] = blanco \n",
    "    codigo[zonaSilenciosa + 2] = negro\n",
    "\n",
    "    codigo[-zonaSilenciosa] = negro\n",
    "    codigo[-zonaSilenciosa+1] = blanco\n",
    "    codigo[-zonaSilenciosa+2] = negro\n",
    "\n",
    "    codigo[zonaSilenciosa+2+6*7+0] = blanco \n",
    "    codigo[zonaSilenciosa+2+6*7+1] = negro \n",
    "    codigo[zonaSilenciosa+2+6*7+2] = blanco \n",
    "    codigo[zonaSilenciosa+2+6*7+3] = negro \n",
    "    codigo[zonaSilenciosa+2+6*7+4] = blanco \n",
    "\n",
    "    # Paso 3. Rellenar las unidades de LLLLLL\n",
    "    # Paso 4. Rellenar las unidades de RRRRRR\n",
    "    # Devolvería el código y el dígito de control\n",
    "    return codigo, X  \n",
    "\n",
    "resultado, DigitoControl= CalcularCodigoBarras(digitos)\n",
    "print(resultado)"
   ]
  },
  {
   "cell_type": "code",
   "execution_count": null,
   "metadata": {
    "colab": {
     "base_uri": "https://localhost:8080/"
    },
    "id": "zgLC7AXs1hqB",
    "outputId": "135e6e82-a012-400a-8a6a-08304ccac389"
   },
   "outputs": [
    {
     "name": "stdout",
     "output_type": "stream",
     "text": [
      "[1 1 1 1 1 1 1 1 1 0 1 0 1 1 1 1 1 1 1 1 1 1 1 1 1 1 1 1 1 1 1 1 1 1 1 1 1\n",
      " 1 1 1 1 1 1 1 1 1 1 1 1 1 1 1 1 1 1 1 1 1 1 1 1 1 1 1 1 1 1 1 1 1 1 1 1 1\n",
      " 1 1 1 1 1 1 1 1 1 1 1 1 1 1 1 1 1 1 1 1 1 1 1 1 1 1 1 1 1 1 0 1 0 1 1 1 1\n",
      " 1 1]\n"
     ]
    }
   ],
   "source": [
    "\n",
    "# Imagen de salida\n",
    "anchoIm= totalUnidades*grosor\n",
    "altoIm= 100\n",
    "imagenSalida= np.ones( (altoIm, anchoIm) , dtype=np.uint8)*255\n",
    "\n",
    "# Se convierte el string a una lista de enteros \n",
    "digitos = [int(x) for x in digitos]\n",
    "\n",
    "\n",
    "# Pintar código de barras\n",
    "# Para pintar un rectángulo de la coordenada (x,y) (10, 9) a la (13,11): \n",
    "imagenSalida[9:20, 10:90]= blanco\n",
    "\n"
   ]
  },
  {
   "cell_type": "code",
   "execution_count": null,
   "metadata": {
    "colab": {
     "base_uri": "https://localhost:8080/",
     "height": 183
    },
    "id": "YkOF52ee1hqC",
    "outputId": "6794c458-3da1-494f-ee8d-32ffab688450"
   },
   "outputs": [
    {
     "data": {
      "image/png": "[encoded data removed]",
      "text/plain": [
       "<Figure size 432x288 with 1 Axes>"
      ]
     },
     "metadata": {
      "needs_background": "light"
     },
     "output_type": "display_data"
    }
   ],
   "source": [
    "\n",
    "imgplot= plt.imshow(imagenSalida, cmap='gray')\n",
    "imgplot.axes.get_xaxis().set_visible(False)\n",
    "imgplot.axes.get_yaxis().set_visible(False)\n",
    "\n",
    "# Para pintar texto en alguna coordenada, con un tamaño de fuente especificado\n",
    "# plt.text(30, altoIm-10, digitos[0:6], fontsize=24)\n",
    "# plt.text(100, altoIm-10, digitos[6:12], fontsize=24)\n",
    "# PROGRAMAR AQUÍ "
   ]
  }
 ],
 "metadata": {
  "colab": {
   "provenance": []
  },
  "kernelspec": {
   "display_name": "Python 3 (ipykernel)",
   "language": "python",
   "name": "python3"
  },
  "language_info": {
   "codemirror_mode": {
    "name": "ipython",
    "version": 3
   },
   "file_extension": ".py",
   "mimetype": "text/x-python",
   "name": "python",
   "nbconvert_exporter": "python",
   "pygments_lexer": "ipython3",
   "version": "3.9.7"
  }
 },
 "nbformat": 4,
 "nbformat_minor": 1
}
