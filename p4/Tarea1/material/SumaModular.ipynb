{
 "cells": [
  {
   "cell_type": "markdown",
   "metadata": {},
   "source": [
    "# Teoría de la Información y la Codificación\n",
    "## Tarea: Códigos para detección de errores\n",
    "\n",
    "\n",
    "# Autor: \n",
    "\n",
    "Rellene la siguiente información:\n",
    "\n",
    " - Estudiante (nombre y apellidos): Cristina Sánchez Justicia \n",
    " - DNI/NIE/Pasaporte: 77689772G \n",
    " - Grupo: TIC\n",
    " - Curso académico: 4º  \n",
    "\n",
    "\n",
    "\n",
    "__Yo, como estudiante de la asignatura, aseguro que la elaboración de estos ejercicios ha sido realizada de forma individual, sin incurrir en copias parciales o totales de código fuente o documentación, y acepto las repercusiones que conllevaría si esto no fuese así.__\n"
   ]
  },
  {
   "cell_type": "markdown",
   "metadata": {},
   "source": [
    "# Respuestas a las cuestiones teóricas:\n",
    "\n",
    "\n",
    "- <b> Definición de códigos de bloque:</b> Cada palabra a codificar se codifica con k bits. A cada palabra se añaden r bits extra de redundancia. \n",
    "- <b>Teoría básica de algoritmos de suma modular:</b> Se envía el mensaje junto al módulo correspondiente. Se puede comprobar desde el receptor si es correcto. \n",
    "- <b>Algoritmo de codificación de DNI:</b> El alfabeto son las cifras decimales. \n",
    "- <b>Algoritmo de comprobación de errores de DNI:</b> se hace el módulo 23 de la parte numérica    \n",
    "- <b>Código de bloque de DNI:</b> el alfabeto de k son los dígitos decimales y el alfabeto de r son 23 letras del alfabeto inglés.   \n",
    "- <b>Algoritmo de codificación de números de tarjetas bancarias:</b> El alfabeto son los números decimales, incluido el de los bits de redundancia\n",
    "- <b>Algoritmo de comprobación de errores de números de tarjetas bancarias:</b> Se hace la sumatoria de las cifras pares con el múltiplo de 2 de las cifras impares (sumadas a su vez si tienen más de un dígito).\n",
    "- <b>Código de bloque de números de tarjetas bancarias:</b> cada número de tajeta de crédito es un bloque \n"
   ]
  },
  {
   "cell_type": "code",
   "execution_count": 1,
   "metadata": {},
   "outputs": [],
   "source": [
    "\n",
    "#imports\n",
    "import numpy as np\n",
    "\n"
   ]
  },
  {
   "cell_type": "code",
   "execution_count": 12,
   "metadata": {},
   "outputs": [],
   "source": [
    "\n",
    "# Declaración de constantes a usar ( en caso de ser necesario )\n",
    "DNI = [1, 2, 3, 4, 5, 6, 7, 8, \"A\"]\n",
    "\n",
    "restoDNI = {\n",
    "    0:\"T\",\n",
    "    1:\"R\",\n",
    "    2:\"W\",\n",
    "    3:\"A\",\n",
    "    4:\"G\",\n",
    "    5:\"M\",\n",
    "    6:\"Y\",\n",
    "    7:\"F\",\n",
    "    8:\"P\",\n",
    "    9:\"D\",\n",
    "    10:\"X\",\n",
    "    11:\"B\",\n",
    "    12:\"N\",\n",
    "    13:\"J\",\n",
    "    14:\"Z\",\n",
    "    15:\"S\",\n",
    "    16:\"Q\",\n",
    "    17:\"V\",\n",
    "    18:\"H\",\n",
    "    19:\"L\",\n",
    "    20:\"C\",\n",
    "    21:\"K\",\n",
    "    22:\"E\", \n",
    "    \n",
    "}\n",
    "\n"
   ]
  },
  {
   "cell_type": "code",
   "execution_count": 13,
   "metadata": {},
   "outputs": [],
   "source": [
    "\n",
    "# Función que tiene como entrada una cadena con los 8 dígitos del DNI, y \n",
    "# proporciona como salida una cadena con 9 símbolos (el código de bloque del DNI),\n",
    "# en formato \"12345678A\"\n",
    "def generadorDNI(numero): \n",
    "    return str(numero)+restoDNI[numero % 23]\n"
   ]
  },
  {
   "cell_type": "code",
   "execution_count": 16,
   "metadata": {},
   "outputs": [],
   "source": [
    "\n",
    "# Función que tiene como entrada una cadena con 9 símbolos del DNI en formato \"12345678A\"\n",
    "# y devuelve si el DNI es correcto o no\n",
    "def comprobarDNI(DNI):\n",
    "    if DNI == generadorDNI(int(DNI[0:8])): \n",
    "        return True\n",
    "    else: \n",
    "        return False \n"
   ]
  },
  {
   "cell_type": "code",
   "execution_count": 42,
   "metadata": {},
   "outputs": [],
   "source": [
    "\n",
    "# Función que tiene como entrada una cadena con los 15 dígitos del número de una tarjeta bancaria\n",
    "# en formato \"123456789012345\", y devuelve una cadena con 16 dígitos, el código de bloque del número de tarjeta\n",
    "def generadorBanco(listaNumeros): \n",
    "    original = listaNumeros.copy() \n",
    "    # Todos los dígitos en posiciones impares se multiplican por dos \n",
    "    for i in range(0, 15, 2): \n",
    "        listaNumeros[i] = listaNumeros[i]*2\n",
    "        # Si el resultado excece 10, se suman sus digitos y se sustituye\n",
    "        if listaNumeros[i] >= 10: \n",
    "            listaNumeros[i] = listaNumeros[i] // 10 + listaNumeros[i] % 10\n",
    "    # Se suma el resultado a todos los dígitos en posiciones pares \n",
    "    suma = 0 \n",
    "    for i in listaNumeros: \n",
    "        suma += i \n",
    "    # Se calcula el módulo 10 del resultado\n",
    "    M = suma % 10 \n",
    "    original.append(10 - M)\n",
    "    return original"
   ]
  },
  {
   "cell_type": "code",
   "execution_count": 44,
   "metadata": {},
   "outputs": [],
   "source": [
    "\n",
    "# Función que tiene como entrada una cadena con 16 símbolos del código de bloque de una tarjeta bancaria\n",
    "# en formato \"1234567812345678\" y devuelva si el número de la tarjeta es válido o no.\n",
    "def comprobarBanco(listaNumeros): \n",
    "    return generadorBanco(listaNumeros[0:15]) == listaNumeros\n"
   ]
  },
  {
   "cell_type": "code",
   "execution_count": 45,
   "metadata": {},
   "outputs": [
    {
     "name": "stdout",
     "output_type": "stream",
     "text": [
      "77689772G\n",
      "True\n",
      "[4, 8, 5, 7, 2, 1, 0, 0, 7, 1, 9, 6, 5, 5, 6, 1]\n",
      "[5, 4, 5, 7, 6, 2, 3, 8, 9, 8, 2, 3, 4, 1, 1, 3]\n",
      "True\n",
      "True\n"
     ]
    }
   ],
   "source": [
    "\n",
    "# Realización de pruebas variadas que muestren el funcionamiento de todas las funciones\n",
    "print(generadorDNI(77689772))\n",
    "print(comprobarDNI(\"77689772G\"))\n",
    "print(generadorBanco([4,8,5,7,2,1,0,0,7,1,9,6,5,5,6]))\n",
    "print(generadorBanco([5,4,5,7,6,2,3,8,9,8,2,3,4,1,1]))\n",
    "print(comprobarBanco([4, 8, 5, 7, 2, 1, 0, 0, 7, 1, 9, 6, 5, 5, 6, 1]))\n",
    "print(comprobarBanco([4, 8, 5, 7, 2, 1, 0, 0, 7, 1, 9, 6, 5, 5, 6, 1]))"
   ]
  }
 ],
 "metadata": {
  "kernelspec": {
   "display_name": "Python 3 (ipykernel)",
   "language": "python",
   "name": "python3"
  },
  "language_info": {
   "codemirror_mode": {
    "name": "ipython",
    "version": 3
   },
   "file_extension": ".py",
   "mimetype": "text/x-python",
   "name": "python",
   "nbconvert_exporter": "python",
   "pygments_lexer": "ipython3",
   "version": "3.9.7"
  }
 },
 "nbformat": 4,
 "nbformat_minor": 4
}
